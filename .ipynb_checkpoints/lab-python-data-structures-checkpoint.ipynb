{
 "cells": [
  {
   "cell_type": "markdown",
   "metadata": {
    "tags": []
   },
   "source": [
    "# Lab | Data Structures "
   ]
  },
  {
   "cell_type": "markdown",
   "metadata": {},
   "source": [
    "## Exercise: Managing Customer Orders\n",
    "\n",
    "As part of a business venture, you are starting an online store that sells various products. To ensure smooth operations, you need to develop a program that manages customer orders and inventory.\n",
    "\n",
    "Follow the steps below to complete the exercise:\n",
    "\n",
    "1. Define a list called `products` that contains the following items: \"t-shirt\", \"mug\", \"hat\", \"book\", \"keychain\".\n",
    "\n",
    "2. Create an empty dictionary called `inventory`.\n",
    "\n",
    "3. Ask the user to input the quantity of each product available in the inventory. Use the product names from the `products` list as keys in the `inventory` dictionary and assign the respective quantities as values.\n",
    "\n",
    "4. Create an empty set called `customer_orders`.\n",
    "\n",
    "5. Ask the user to input the name of three products that a customer wants to order (from those in the products list, meaning three products out of \"t-shirt\", \"mug\", \"hat\", \"book\" or \"keychain\". Add each product name to the `customer_orders` set.\n",
    "\n",
    "6. Print the products in the `customer_orders` set.\n",
    "\n",
    "7. Calculate the following order statistics:\n",
    "   - Total Products Ordered: The total number of products in the `customer_orders` set.\n",
    "   - Percentage of Products Ordered: The percentage of products ordered compared to the total available products.\n",
    "   \n",
    "   Store these statistics in a tuple called `order_status`.\n",
    "\n",
    "8. Print the order statistics using the following format:\n",
    "   ```\n",
    "   Order Statistics:\n",
    "   Total Products Ordered: <total_products_ordered>\n",
    "   Percentage of Products Ordered: <percentage_ordered>% \n",
    "   ```\n",
    "\n",
    "9. Update the inventory by subtracting 1 from the quantity of each product. Modify the `inventory` dictionary accordingly.\n",
    "\n",
    "10. Print the updated inventory, displaying the quantity of each product on separate lines.\n",
    "\n",
    "Solve the exercise by implementing the steps using the Python concepts of lists, dictionaries, sets, and basic input/output operations. "
   ]
  },
  {
   "cell_type": "code",
   "execution_count": 105,
   "metadata": {},
   "outputs": [
    {
     "name": "stdin",
     "output_type": "stream",
     "text": [
      "Enter quantity of T-shirt 10\n",
      "Enter quantity of Mug 11\n",
      "Enter quantity of hat 12\n",
      "Enter quantity of book 13\n",
      "Enter quantity of keychain 14\n"
     ]
    }
   ],
   "source": [
    "products = [\"t-shirt\", \"mug\", \"hat\", \"book\", \"keychain\"] #1.create product list\n",
    "inventory = {} #2.create empty dictionnary\n",
    "qty = input(\"Enter quantity of T-shirt\") #ask user input qty\n",
    "inventory[\"t-shirt\"] = qty #store qty for item in dictionnary\n",
    "qty = input(\"Enter quantity of Mug\") #ask user input qty\n",
    "inventory[\"mug\"] = qty #store qty for item in dictionnary\n",
    "qty = input(\"Enter quantity of hat\") #ask user input qty\n",
    "inventory[\"hat\"] = qty #store qty for item in dictionnary\n",
    "qty = input(\"Enter quantity of book\") #ask user input qty\n",
    "inventory[\"book\"] = qty #store qty for item in dictionnary\n",
    "qty = input(\"Enter quantity of keychain\") #ask user input qty\n",
    "inventory[\"keychain\"] = k_qty #store qty for item in dictionnary"
   ]
  },
  {
   "cell_type": "code",
   "execution_count": 107,
   "metadata": {},
   "outputs": [
    {
     "name": "stdout",
     "output_type": "stream",
     "text": [
      "{'t-shirt': '10', 'mug': '11', 'hat': '12', 'book': '13', 'keychain': '14'}\n"
     ]
    }
   ],
   "source": [
    "print(inventory) #print inventory before customer order\n",
    "customer_orders = [] #create empty set"
   ]
  },
  {
   "cell_type": "code",
   "execution_count": 109,
   "metadata": {},
   "outputs": [
    {
     "name": "stdin",
     "output_type": "stream",
     "text": [
      "enter an item to order mug\n",
      "enter an item to order hat\n",
      "enter an item to order book\n"
     ]
    },
    {
     "name": "stdout",
     "output_type": "stream",
     "text": [
      "['mug', 'hat', 'book']\n"
     ]
    }
   ],
   "source": [
    "while len(customer_orders)<(3):#create a loop for entry of 3 items from the product list \n",
    "    item = input(\"enter an item to order\")\n",
    "    if item in products:#check if user entry belongs to list of products\n",
    "        customer_orders.append(item) #if yes append to customer order\n",
    "        \n",
    "    else: #if not, re-ask for entry\n",
    "        item = input (\"please enter an item from the product list\")\n",
    "        customer_orders.append(item)\n",
    "print(customer_orders)"
   ]
  },
  {
   "cell_type": "code",
   "execution_count": 111,
   "metadata": {},
   "outputs": [
    {
     "name": "stdout",
     "output_type": "stream",
     "text": [
      "Order statistics\n",
      "Total products ordered: 3\n",
      "Percentage of Products Ordered: 60.0 %\n",
      "{'t-shirt': '10', 'mug': '11', 'hat': '12', 'book': '13', 'keychain': '14'}\n"
     ]
    }
   ],
   "source": [
    "order_status=(len(customer_orders),len(customer_orders)/len(products))\n",
    "\n",
    "print(\"Order statistics\")\n",
    "print(f\"Total products ordered: {order_status[0]}\")\n",
    "print(f\"Percentage of Products Ordered: {order_status[1]*100} %\")"
   ]
  }
 ],
 "metadata": {
  "kernelspec": {
   "display_name": "Python 3 (ipykernel)",
   "language": "python",
   "name": "python3"
  },
  "language_info": {
   "codemirror_mode": {
    "name": "ipython",
    "version": 3
   },
   "file_extension": ".py",
   "mimetype": "text/x-python",
   "name": "python",
   "nbconvert_exporter": "python",
   "pygments_lexer": "ipython3",
   "version": "3.12.4"
  }
 },
 "nbformat": 4,
 "nbformat_minor": 4
}
